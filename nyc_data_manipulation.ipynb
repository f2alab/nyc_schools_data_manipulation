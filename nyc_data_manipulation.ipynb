{
 "cells": [
  {
   "cell_type": "markdown",
   "id": "dbc4ff52",
   "metadata": {},
   "source": [
    "# **Use data manipulation and summary statistics to analyze test scores across New York City's public schools**"
   ]
  },
  {
   "cell_type": "markdown",
   "id": "0c26fa87",
   "metadata": {},
   "source": [
    "## 1. Load Data"
   ]
  },
  {
   "cell_type": "markdown",
   "id": "c84158c0",
   "metadata": {},
   "source": [
    "### a. Import necessary libraries"
   ]
  },
  {
   "cell_type": "code",
   "execution_count": 172,
   "id": "eb1b0af9",
   "metadata": {},
   "outputs": [],
   "source": [
    "# Import libraries\n",
    "import numpy as np\n",
    "import matplotlib.pyplot as plt\n",
    "import pandas as pd\n",
    "import seaborn as sns"
   ]
  },
  {
   "cell_type": "markdown",
   "id": "7ad38a82",
   "metadata": {},
   "source": [
    "### b. Read data with pandas"
   ]
  },
  {
   "cell_type": "code",
   "execution_count": 173,
   "id": "6a91e818",
   "metadata": {},
   "outputs": [
    {
     "name": "stdout",
     "output_type": "stream",
     "text": [
      "                                         school_name    borough building_code  \\\n",
      "0  New Explorations into Science, Technology and ...  Manhattan          M022   \n",
      "1                               Essex Street Academy  Manhattan          M445   \n",
      "\n",
      "   average_math  average_reading  average_writing  percent_tested  \n",
      "0           657              601              601             NaN  \n",
      "1           395              411              387            78.9  \n"
     ]
    }
   ],
   "source": [
    "# Load Data\n",
    "data = pd.read_csv(\"schools.csv\")\n",
    "# Display few rows\n",
    "print(data.head(2))"
   ]
  },
  {
   "cell_type": "markdown",
   "id": "2bf99eeb",
   "metadata": {},
   "source": [
    "### c. Dataset Info"
   ]
  },
  {
   "cell_type": "code",
   "execution_count": 174,
   "id": "66dcb0cb",
   "metadata": {},
   "outputs": [
    {
     "name": "stdout",
     "output_type": "stream",
     "text": [
      "<class 'pandas.core.frame.DataFrame'>\n",
      "RangeIndex: 375 entries, 0 to 374\n",
      "Data columns (total 7 columns):\n",
      " #   Column           Non-Null Count  Dtype  \n",
      "---  ------           --------------  -----  \n",
      " 0   school_name      375 non-null    object \n",
      " 1   borough          375 non-null    object \n",
      " 2   building_code    375 non-null    object \n",
      " 3   average_math     375 non-null    int64  \n",
      " 4   average_reading  375 non-null    int64  \n",
      " 5   average_writing  375 non-null    int64  \n",
      " 6   percent_tested   355 non-null    float64\n",
      "dtypes: float64(1), int64(3), object(3)\n",
      "memory usage: 20.6+ KB\n",
      "None\n"
     ]
    }
   ],
   "source": [
    "# Display Dataset Infos\n",
    "print(data.info())"
   ]
  },
  {
   "cell_type": "markdown",
   "id": "a3a13e6b",
   "metadata": {},
   "source": [
    "## 2. Which NYC schools have the best math results?\n",
    "- The best math results are at least 80% of the *maximum possible score of 800* for math.\n",
    "- Save the results in a pandas DataFrame called `best_math_schools`, including `\"school_name\"` and `\"average_math\"` columns, sorted by `\"average_math\"` in descending order."
   ]
  },
  {
   "cell_type": "markdown",
   "id": "3683d757",
   "metadata": {},
   "source": [
    "### a. `Add has_math_best_score` Column"
   ]
  },
  {
   "cell_type": "code",
   "execution_count": 175,
   "id": "15fb31b1",
   "metadata": {},
   "outputs": [
    {
     "name": "stdout",
     "output_type": "stream",
     "text": [
      "Math best score threshold:  640.0\n",
      "(375, 8)\n"
     ]
    }
   ],
   "source": [
    "# add has_best_score column\n",
    "average_math_col = 'average_math'\n",
    "has_math_best_score_col ='has_math_best_score'\n",
    "school_name_col = 'school_name'\n",
    "math_best_score_threshold = 0.8 * 800\n",
    "print(\"Math best score threshold: \", math_best_score_threshold)\n",
    "data[has_math_best_score_col] = np.where(data['average_math'] >= math_best_score_threshold, 1, 0)\n",
    "print(data.shape)\n",
    "\n"
   ]
  },
  {
   "cell_type": "markdown",
   "id": "46fbf4d7",
   "metadata": {},
   "source": [
    "### b. Best math schools Dataframe `best_math_schools` with `school_name` and `average_math` columns, sorted by `average_math` in descending order"
   ]
  },
  {
   "cell_type": "code",
   "execution_count": 176,
   "id": "3d8acf21",
   "metadata": {},
   "outputs": [
    {
     "name": "stdout",
     "output_type": "stream",
     "text": [
      "                                           school_name  average_math\n",
      "88                              Stuyvesant High School           754\n",
      "170                       Bronx High School of Science           714\n",
      "93                 Staten Island Technical High School           711\n",
      "365  Queens High School for the Sciences at York Co...           701\n",
      "68   High School for Mathematics, Science, and Engi...           683\n"
     ]
    }
   ],
   "source": [
    "# Best math schools Dataframe with 'school_name' and 'average_math', sorted by \"average_math\" in descending order\n",
    "best_math_schools = data[data[has_math_best_score_col]==1][[school_name_col, average_math_col]].sort_values(by=average_math_col, ascending=False)\n",
    "print(best_math_schools.head())"
   ]
  },
  {
   "cell_type": "markdown",
   "id": "d97b17f2",
   "metadata": {},
   "source": [
    "## 3. What are the top 10 performing schools based on the combined SAT scores?\n",
    "- Save results as a pandas DataFrame called `top_10_schools` containing the `\"school_name\"` and a new column named `\"total_SAT\"`, with results ordered by `\"total_SAT\"` in descending order (`\"total_SAT\"` being the sum of math, reading, and writing scores)"
   ]
  },
  {
   "cell_type": "markdown",
   "id": "8ef80a2f",
   "metadata": {},
   "source": [
    "### a. Add `total_SAT` column"
   ]
  },
  {
   "cell_type": "code",
   "execution_count": 177,
   "id": "c072fa23",
   "metadata": {},
   "outputs": [
    {
     "name": "stdout",
     "output_type": "stream",
     "text": [
      "                                           school_name  total_SAT\n",
      "0    New Explorations into Science, Technology and ...       1859\n",
      "1                                 Essex Street Academy       1193\n",
      "2                         Lower Manhattan Arts Academy       1261\n",
      "3      High School for Dual Language and Asian Studies       1529\n",
      "4        Henry Street School for International Studies       1197\n",
      "..                                                 ...        ...\n",
      "370  Queens High School for Information, Research, ...       1086\n",
      "371  Rockaway Park High School for Environmental Su...       1114\n",
      "372                   Channel View School for Research       1280\n",
      "373                    Rockaway Collegiate High School       1207\n",
      "374                                  Scholars' Academy       1716\n",
      "\n",
      "[375 rows x 2 columns]\n"
     ]
    }
   ],
   "source": [
    "# Add `total_SAT` column\n",
    "total_SAT_col = 'total_SAT'\n",
    "average_writing_col = 'average_writing'\n",
    "average_reading_col = 'average_reading'\n",
    "\n",
    "data[total_SAT_col] = data[[average_math_col, average_writing_col, average_reading_col]].sum(axis=1)\n",
    "# OR data[total_SAT_col] = data[average_math_col] + data [average_writing_col] + data[average_reading_col]\n",
    "print(data[[school_name_col, total_SAT_col]])"
   ]
  },
  {
   "cell_type": "markdown",
   "id": "3f13b617",
   "metadata": {},
   "source": [
    "### b. `top_10_schools` containing the `\"school_name\"` and a new column named `\"total_SAT\"`, with results ordered by `\"total_SAT\"` in descending order (`\"total_SAT\"` being the sum of math, reading, and writing scores)"
   ]
  },
  {
   "cell_type": "code",
   "execution_count": 178,
   "id": "d0ea4bf4",
   "metadata": {},
   "outputs": [
    {
     "name": "stdout",
     "output_type": "stream",
     "text": [
      "                                           school_name  total_SAT\n",
      "88                              Stuyvesant High School       2144\n",
      "170                       Bronx High School of Science       2041\n",
      "93                 Staten Island Technical High School       2041\n",
      "174  High School of American Studies at Lehman College       2013\n",
      "333                        Townsend Harris High School       1981\n",
      "365  Queens High School for the Sciences at York Co...       1947\n",
      "5                       Bard High School Early College       1914\n",
      "280                     Brooklyn Technical High School       1896\n",
      "45                       Eleanor Roosevelt High School       1889\n",
      "68   High School for Mathematics, Science, and Engi...       1889\n"
     ]
    }
   ],
   "source": [
    "# top_10_schools Dataframe\n",
    "top_10_schools = data[[school_name_col, total_SAT_col]].sort_values(by=total_SAT_col, ascending=False).head(n=10)\n",
    "print(top_10_schools)"
   ]
  },
  {
   "cell_type": "markdown",
   "id": "c6fab2d9",
   "metadata": {},
   "source": [
    "## 4. Which single borough has the largest standard deviation in the combined SAT score?"
   ]
  },
  {
   "cell_type": "markdown",
   "id": "24707900",
   "metadata": {},
   "source": [
    "### a. Group by `borough` and calculation of `Standard deviation`, `number of schools in each borough` and `mean of total_SAT`"
   ]
  },
  {
   "cell_type": "code",
   "execution_count": 179,
   "id": "cbdc498a",
   "metadata": {},
   "outputs": [
    {
     "name": "stdout",
     "output_type": "stream",
     "text": [
      "         borough  num_schools  average_SAT  std_SAT\n",
      "0      Manhattan           89      1340.13   230.29\n",
      "1  Staten Island           10      1439.00   222.30\n",
      "2         Queens           69      1345.48   195.25\n",
      "3       Brooklyn          109      1230.26   154.87\n",
      "4          Bronx           98      1202.72   150.39\n"
     ]
    }
   ],
   "source": [
    "# Columns variables\n",
    "borough_col = 'borough'\n",
    "num_schools_col = 'num_school'\n",
    "average_SAT_col = 'average_SAT'\n",
    "std_SAT_col = 'std_SAT'\n",
    "\n",
    "# borough dataframe\n",
    "boroughs_data = data.groupby(borough_col).agg(num_schools=(borough_col, len), average_SAT=(total_SAT_col, 'mean'), std_SAT= (total_SAT_col, 'std')).reset_index().sort_values(by=std_SAT_col, ascending=False).round({num_schools_col:2, std_SAT_col:2, average_SAT_col:2}).reset_index(drop=True)\n",
    "print(boroughs_data)"
   ]
  },
  {
   "cell_type": "markdown",
   "id": "6f549ee1",
   "metadata": {},
   "source": [
    "### b. Borough has the largest standard deviation in the combined SAT score"
   ]
  },
  {
   "cell_type": "code",
   "execution_count": 180,
   "id": "6dfbf5f3",
   "metadata": {},
   "outputs": [
    {
     "name": "stdout",
     "output_type": "stream",
     "text": [
      "     borough  num_schools  average_SAT  std_SAT\n",
      "0  Manhattan           89      1340.13   230.29\n"
     ]
    }
   ],
   "source": [
    "largest_std_dev = boroughs_data.loc[[0]] \n",
    "print(largest_std_dev)"
   ]
  },
  {
   "cell_type": "code",
   "execution_count": null,
   "id": "4d545322",
   "metadata": {},
   "outputs": [],
   "source": []
  }
 ],
 "metadata": {
  "kernelspec": {
   "display_name": "Python 3",
   "language": "python",
   "name": "python3"
  },
  "language_info": {
   "codemirror_mode": {
    "name": "ipython",
    "version": 3
   },
   "file_extension": ".py",
   "mimetype": "text/x-python",
   "name": "python",
   "nbconvert_exporter": "python",
   "pygments_lexer": "ipython3",
   "version": "3.13.3"
  }
 },
 "nbformat": 4,
 "nbformat_minor": 5
}
